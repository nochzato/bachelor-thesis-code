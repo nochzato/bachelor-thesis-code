{
 "cells": [
  {
   "cell_type": "code",
   "execution_count": 1,
   "metadata": {},
   "outputs": [],
   "source": [
    "import tifffile\n",
    "import glob\n",
    "import os\n",
    "import numpy as np"
   ]
  },
  {
   "cell_type": "code",
   "execution_count": 5,
   "metadata": {},
   "outputs": [],
   "source": [
    "IMG_DIM = 256\n",
    "NUM_SAMPLES = 1000"
   ]
  },
  {
   "cell_type": "code",
   "execution_count": 6,
   "metadata": {},
   "outputs": [
    {
     "name": "stderr",
     "output_type": "stream",
     "text": [
      "C:\\Users\\nochzato\\AppData\\Local\\Temp\\ipykernel_13200\\297634305.py:38: DeprecationWarning: <tifffile.imsave> is deprecated. Use tifffile.imwrite\n",
      "  tifffile.imsave(os.path.join(img_dir, f\"{i}_0.tif\"), patch_img)\n",
      "C:\\Users\\nochzato\\AppData\\Local\\Temp\\ipykernel_13200\\297634305.py:39: DeprecationWarning: <tifffile.imsave> is deprecated. Use tifffile.imwrite\n",
      "  tifffile.imsave(os.path.join(mask_dir, f\"{i}_mask.tif\"), patch_mask)\n"
     ]
    }
   ],
   "source": [
    "img = tifffile.imread(\"../dataset/geo.tif\")\n",
    "mask = tifffile.imread(\"../dataset/mask.tif\")\n",
    "\n",
    "\n",
    "x_size = IMG_DIM\n",
    "y_size = IMG_DIM\n",
    "\n",
    "\n",
    "i = 0\n",
    "\n",
    "img_dir = f\"../dataset/train_data_{IMG_DIM}\"\n",
    "mask_dir = f\"../dataset/label_data_{IMG_DIM}\"\n",
    "\n",
    "# If the directories don't exist, create them\n",
    "if not os.path.exists(img_dir):\n",
    "    os.makedirs(img_dir)\n",
    "\n",
    "if not os.path.exists(mask_dir):\n",
    "    os.makedirs(mask_dir)\n",
    "\n",
    "# Clear the directories\n",
    "for f in glob.glob(img_dir + \"/*\"):\n",
    "    os.remove(f)\n",
    "\n",
    "for f in glob.glob(mask_dir + \"/*\"):\n",
    "    os.remove(f)\n",
    "\n",
    "while i < NUM_SAMPLES:\n",
    "    x = np.random.randint(0, img.shape[0] - x_size)\n",
    "    y = np.random.randint(0, img.shape[1] - y_size)\n",
    "\n",
    "    patch_img = img[x : x + x_size, y : y + y_size]\n",
    "    patch_mask = mask[x : x + x_size, y : y + y_size]\n",
    "\n",
    "    # Test if the patch is at least 10% non-zero\n",
    "\n",
    "    if np.sum(patch_mask) / (IMG_DIM * IMG_DIM) > 0.1:\n",
    "        tifffile.imsave(os.path.join(img_dir, f\"{i}_0.tif\"), patch_img)\n",
    "        tifffile.imsave(os.path.join(mask_dir, f\"{i}_mask.tif\"), patch_mask)\n",
    "        i += 1"
   ]
  }
 ],
 "metadata": {
  "kernelspec": {
   "display_name": "thesis",
   "language": "python",
   "name": "python3"
  },
  "language_info": {
   "codemirror_mode": {
    "name": "ipython",
    "version": 3
   },
   "file_extension": ".py",
   "mimetype": "text/x-python",
   "name": "python",
   "nbconvert_exporter": "python",
   "pygments_lexer": "ipython3",
   "version": "3.10.4"
  }
 },
 "nbformat": 4,
 "nbformat_minor": 2
}
