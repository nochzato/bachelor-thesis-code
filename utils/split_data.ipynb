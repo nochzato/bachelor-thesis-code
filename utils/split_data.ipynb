{
 "cells": [
  {
   "cell_type": "code",
   "execution_count": 1,
   "metadata": {},
   "outputs": [],
   "source": [
    "import glob\n",
    "import numpy as np\n",
    "import os\n",
    "import shutil"
   ]
  },
  {
   "cell_type": "code",
   "execution_count": 5,
   "metadata": {},
   "outputs": [],
   "source": [
    "IMG_DIM = 256"
   ]
  },
  {
   "cell_type": "code",
   "execution_count": 6,
   "metadata": {},
   "outputs": [],
   "source": [
    "images = glob.glob(f\"../dataset/train_data_{IMG_DIM}/*.tif\")\n",
    "\n",
    "images.sort()\n",
    "\n",
    "# Split the images into two directories with a proportion of 80% and 20% using numpy random\n",
    "np.random.shuffle(images)\n",
    "\n",
    "split = int(0.8 * len(images))\n",
    "\n",
    "train_images = images[:split]\n",
    "test_images = images[split:]\n",
    "\n",
    "img_dir = f\"../dataset/train_data_{IMG_DIM}\"\n",
    "\n",
    "train_dir = f\"../dataset/data_train_{IMG_DIM}\"\n",
    "val_dir = f\"../dataset/data_val_{IMG_DIM}\"\n",
    "\n",
    "# If the directories don't exist, create them\n",
    "if not os.path.exists(train_dir):\n",
    "    os.makedirs(train_dir)\n",
    "\n",
    "if not os.path.exists(val_dir):\n",
    "    os.makedirs(val_dir)\n",
    "\n",
    "# Clear the directories\n",
    "for f in glob.glob(train_dir + \"/*\"):\n",
    "    os.remove(f)\n",
    "\n",
    "for f in glob.glob(val_dir + \"/*\"):\n",
    "    os.remove(f)\n",
    "\n",
    "for image in train_images:\n",
    "    # Copy image to data_train directory\n",
    "    shutil.copy(image, train_dir)\n",
    "\n",
    "for image in test_images:\n",
    "    # Copy image to data_validate directory\n",
    "    shutil.copy(image, val_dir)"
   ]
  }
 ],
 "metadata": {
  "kernelspec": {
   "display_name": "thesis",
   "language": "python",
   "name": "python3"
  },
  "language_info": {
   "codemirror_mode": {
    "name": "ipython",
    "version": 3
   },
   "file_extension": ".py",
   "mimetype": "text/x-python",
   "name": "python",
   "nbconvert_exporter": "python",
   "pygments_lexer": "ipython3",
   "version": "3.10.4"
  }
 },
 "nbformat": 4,
 "nbformat_minor": 2
}
