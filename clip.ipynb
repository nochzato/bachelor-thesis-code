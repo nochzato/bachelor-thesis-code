{
 "cells": [
  {
   "cell_type": "code",
   "execution_count": 31,
   "metadata": {},
   "outputs": [],
   "source": [
    "import tifffile\n",
    "import os"
   ]
  },
  {
   "cell_type": "code",
   "execution_count": 32,
   "metadata": {},
   "outputs": [],
   "source": [
    "img = tifffile.imread(\"geo/clipped_mask.tif\")\n",
    "\n",
    "x_size = 64\n",
    "y_size = 64\n",
    "\n",
    "i = 0\n",
    "\n",
    "for x in range(0, img.shape[0] - x_size, x_size):\n",
    "\n",
    "    for y in range(0, img.shape[1] - y_size, y_size):\n",
    "\n",
    "        patch = img[x : x + x_size, y : y + y_size]\n",
    "\n",
    "        filepath = os.path.join(\"geo/label_data\", f\"{i}_mask.tif\")\n",
    "\n",
    "        tifffile.imwrite(filepath, patch)\n",
    "\n",
    "        i += 1"
   ]
  }
 ],
 "metadata": {
  "kernelspec": {
   "display_name": "thesis",
   "language": "python",
   "name": "python3"
  },
  "language_info": {
   "codemirror_mode": {
    "name": "ipython",
    "version": 3
   },
   "file_extension": ".py",
   "mimetype": "text/x-python",
   "name": "python",
   "nbconvert_exporter": "python",
   "pygments_lexer": "ipython3",
   "version": "3.12.3"
  }
 },
 "nbformat": 4,
 "nbformat_minor": 2
}
