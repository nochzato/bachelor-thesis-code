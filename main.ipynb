{
 "cells": [
  {
   "cell_type": "code",
   "execution_count": null,
   "metadata": {},
   "outputs": [],
   "source": [
    "import os\n",
    "\n",
    "import matplotlib.pyplot as plt\n",
    "import pytorch_lightning as pl\n",
    "import segmentation_models_pytorch as smp\n",
    "import torch\n",
    "from lightning.pytorch.loggers import TensorBoardLogger\n",
    "from torch.utils.data import DataLoader\n",
    "\n",
    "from models.crater_model import CraterModel\n",
    "from utils.dataset import CraterDataset"
   ]
  },
  {
   "cell_type": "code",
   "execution_count": null,
   "metadata": {},
   "outputs": [],
   "source": [
    "IMG_DIM = 128"
   ]
  },
  {
   "cell_type": "code",
   "execution_count": null,
   "metadata": {},
   "outputs": [],
   "source": [
    "train_dataset = CraterDataset(\n",
    "    img_dir=f\"./dataset/geo_train_{IMG_DIM}\",\n",
    "    mask_dir=f\"./dataset/mask_train_{IMG_DIM}\",\n",
    ")\n",
    "\n",
    "val_dataset = CraterDataset(\n",
    "    img_dir=f\"./dataset/geo_val_{IMG_DIM}\",\n",
    "    mask_dir=f\"./dataset/mask_val_{IMG_DIM}\",\n",
    ")\n",
    "test_dataset = CraterDataset(\n",
    "    img_dir=f\"./dataset/geo_test_{IMG_DIM}\",\n",
    "    mask_dir=f\"./dataset/mask_test_{IMG_DIM}\",\n",
    ")\n",
    "\n",
    "n_cpus = os.cpu_count()\n",
    "\n",
    "train_dataloader = DataLoader(\n",
    "    train_dataset, batch_size=16, shuffle=True, num_workers=n_cpus\n",
    ")\n",
    "val_dataloader = DataLoader(\n",
    "    val_dataset, batch_size=16, shuffle=False, num_workers=n_cpus\n",
    ")\n",
    "test_dataloader = DataLoader(\n",
    "    test_dataset, batch_size=16, shuffle=False, num_workers=n_cpus\n",
    ")"
   ]
  },
  {
   "cell_type": "code",
   "execution_count": null,
   "metadata": {},
   "outputs": [],
   "source": [
    "# Visualize dataset\n",
    "\n",
    "batch = next(iter(train_dataloader))\n",
    "\n",
    "for image, mask in zip(batch[\"image\"], batch[\"mask\"]):\n",
    "    plt.figure(figsize=(10, 5))\n",
    "\n",
    "    plt.subplot(1, 2, 1)\n",
    "    plt.imshow(image.numpy().transpose(1, 2, 0))\n",
    "    plt.title(\"Image\")\n",
    "    plt.axis(\"off\")\n",
    "\n",
    "    plt.subplot(1, 2, 2)\n",
    "    plt.imshow(mask.numpy().squeeze())\n",
    "    plt.title(\"Mask\")"
   ]
  },
  {
   "cell_type": "code",
   "execution_count": null,
   "metadata": {},
   "outputs": [],
   "source": [
    "def visualize(model):\n",
    "    batch = next(iter(test_dataloader))\n",
    "    with torch.no_grad():\n",
    "        model.eval()\n",
    "        logits = model(batch[\"image\"])\n",
    "    pr_masks = logits.sigmoid()\n",
    "\n",
    "    for image, gt_mask, pr_mask in zip(batch[\"image\"], batch[\"mask\"], pr_masks):\n",
    "        plt.figure(figsize=(10, 5))\n",
    "\n",
    "        plt.subplot(1, 3, 1)\n",
    "        plt.imshow(image.numpy().transpose(1, 2, 0))\n",
    "        plt.title(\"Image\")\n",
    "        plt.axis(\"off\")\n",
    "\n",
    "        plt.subplot(1, 3, 2)\n",
    "        plt.imshow(gt_mask.numpy().squeeze())\n",
    "        plt.title(\"Ground truth\")\n",
    "        plt.axis(\"off\")\n",
    "\n",
    "        plt.subplot(1, 3, 3)\n",
    "        plt.imshow(pr_mask.numpy().squeeze())\n",
    "        plt.title(\"Prediction\")\n",
    "        plt.axis(\"off\")\n",
    "\n",
    "        plt.show()"
   ]
  },
  {
   "cell_type": "code",
   "execution_count": null,
   "metadata": {},
   "outputs": [],
   "source": [
    "fpn_dice = CraterModel(\n",
    "    arch=\"FPN\",\n",
    "    encoder_name=\"resnet34\",\n",
    "    in_channels=3,\n",
    "    out_classes=1,\n",
    "    loss_fn=smp.losses.DiceLoss(\n",
    "        mode=smp.losses.constants.BINARY_MODE, from_logits=True\n",
    "    ),\n",
    "    lr=2e-4,\n",
    ")\n",
    "\n",
    "logger = TensorBoardLogger(\"logs\", name=\"crater_fpn_dice\", log_graph=True)\n",
    "\n",
    "trainer = pl.Trainer(\n",
    "    accelerator=\"gpu\",\n",
    "    max_epochs=100,\n",
    "    logger=logger,\n",
    ")\n",
    "\n",
    "trainer.fit(\n",
    "    fpn_dice,\n",
    "    train_dataloaders=train_dataloader,\n",
    "    val_dataloaders=val_dataloader,\n",
    ")"
   ]
  },
  {
   "cell_type": "code",
   "execution_count": null,
   "metadata": {},
   "outputs": [],
   "source": [
    "visualize(fpn_dice)"
   ]
  },
  {
   "cell_type": "code",
   "execution_count": null,
   "metadata": {},
   "outputs": [],
   "source": [
    "unet_dice = CraterModel(\n",
    "    arch=\"Unet\",\n",
    "    encoder_name=\"resnet34\",\n",
    "    in_channels=3,\n",
    "    out_classes=1,\n",
    "    loss_fn=smp.losses.DiceLoss(\n",
    "        mode=smp.losses.constants.BINARY_MODE, from_logits=True\n",
    "    ),\n",
    "    lr=2e-4,\n",
    ")\n",
    "\n",
    "logger = TensorBoardLogger(\"logs\", name=\"crater_unet_dice\", log_graph=True)\n",
    "\n",
    "trainer = pl.Trainer(\n",
    "    accelerator=\"gpu\",\n",
    "    max_epochs=100,\n",
    "    logger=logger,\n",
    ")\n",
    "\n",
    "trainer.fit(\n",
    "    unet_dice,\n",
    "    train_dataloaders=train_dataloader,\n",
    "    val_dataloaders=val_dataloader,\n",
    ")"
   ]
  },
  {
   "cell_type": "code",
   "execution_count": null,
   "metadata": {},
   "outputs": [],
   "source": [
    "visualize(unet_dice)"
   ]
  },
  {
   "cell_type": "code",
   "execution_count": null,
   "metadata": {},
   "outputs": [],
   "source": [
    "deeplab_dice = CraterModel(\n",
    "    arch=\"DeepLabV3\",\n",
    "    encoder_name=\"resnet34\",\n",
    "    in_channels=3,\n",
    "    out_classes=1,\n",
    "    loss_fn=smp.losses.DiceLoss(\n",
    "        mode=smp.losses.constants.BINARY_MODE, from_logits=True\n",
    "    ),\n",
    "    lr=2e-4,\n",
    ")\n",
    "\n",
    "logger = TensorBoardLogger(\"logs\", name=\"crater_deeplab_dice\", log_graph=True)\n",
    "\n",
    "trainer = pl.Trainer(\n",
    "    accelerator=\"gpu\",\n",
    "    max_epochs=100,\n",
    "    logger=logger,\n",
    ")\n",
    "\n",
    "trainer.fit(\n",
    "    deeplab_dice,\n",
    "    train_dataloaders=train_dataloader,\n",
    "    val_dataloaders=val_dataloader,\n",
    ")"
   ]
  },
  {
   "cell_type": "code",
   "execution_count": null,
   "metadata": {},
   "outputs": [],
   "source": [
    "visualize(deeplab_dice)"
   ]
  },
  {
   "cell_type": "code",
   "execution_count": null,
   "metadata": {},
   "outputs": [],
   "source": [
    "fpn_focal = CraterModel(\n",
    "    arch=\"FPN\",\n",
    "    encoder_name=\"resnet34\",\n",
    "    in_channels=3,\n",
    "    out_classes=1,\n",
    "    loss_fn=smp.losses.FocalLoss(mode=smp.losses.constants.BINARY_MODE),\n",
    "    lr=2e-4,\n",
    ")\n",
    "\n",
    "logger = TensorBoardLogger(\"logs\", name=\"crater_fpn_focal\", log_graph=True)\n",
    "\n",
    "trainer = pl.Trainer(\n",
    "    accelerator=\"gpu\",\n",
    "    max_epochs=100,\n",
    "    logger=logger,\n",
    ")\n",
    "\n",
    "trainer.fit(\n",
    "    fpn_focal,\n",
    "    train_dataloaders=train_dataloader,\n",
    "    val_dataloaders=val_dataloader,\n",
    ")"
   ]
  },
  {
   "cell_type": "code",
   "execution_count": null,
   "metadata": {},
   "outputs": [],
   "source": [
    "visualize(fpn_focal)"
   ]
  },
  {
   "cell_type": "code",
   "execution_count": null,
   "metadata": {},
   "outputs": [],
   "source": [
    "unet_focal = CraterModel(\n",
    "    arch=\"Unet\",\n",
    "    encoder_name=\"resnet34\",\n",
    "    in_channels=3,\n",
    "    out_classes=1,\n",
    "    loss_fn=smp.losses.FocalLoss(mode=smp.losses.constants.BINARY_MODE),\n",
    "    lr=2e-4,\n",
    ")\n",
    "\n",
    "logger = TensorBoardLogger(\"logs\", name=\"crater_unet_focal\", log_graph=True)\n",
    "\n",
    "trainer = pl.Trainer(\n",
    "    accelerator=\"gpu\",\n",
    "    max_epochs=100,\n",
    "    logger=logger,\n",
    ")\n",
    "\n",
    "trainer.fit(\n",
    "    unet_focal,\n",
    "    train_dataloaders=train_dataloader,\n",
    "    val_dataloaders=val_dataloader,\n",
    ")"
   ]
  },
  {
   "cell_type": "code",
   "execution_count": null,
   "metadata": {},
   "outputs": [],
   "source": [
    "visualize(unet_focal)"
   ]
  },
  {
   "cell_type": "code",
   "execution_count": null,
   "metadata": {},
   "outputs": [],
   "source": [
    "deeplab_focal = CraterModel(\n",
    "    arch=\"DeepLabV3\",\n",
    "    encoder_name=\"resnet34\",\n",
    "    in_channels=3,\n",
    "    out_classes=1,\n",
    "    loss_fn=smp.losses.FocalLoss(mode=smp.losses.constants.BINARY_MODE),\n",
    "    lr=2e-4,\n",
    ")\n",
    "\n",
    "logger = TensorBoardLogger(\"logs\", name=\"crater_deeplab_focal\", log_graph=True)\n",
    "\n",
    "trainer = pl.Trainer(\n",
    "    accelerator=\"gpu\",\n",
    "    max_epochs=100,\n",
    "    logger=logger,\n",
    ")\n",
    "\n",
    "trainer.fit(\n",
    "    deeplab_focal,\n",
    "    train_dataloaders=train_dataloader,\n",
    "    val_dataloaders=val_dataloader,\n",
    ")"
   ]
  },
  {
   "cell_type": "code",
   "execution_count": null,
   "metadata": {},
   "outputs": [],
   "source": [
    "visualize(deeplab_focal)"
   ]
  }
 ],
 "metadata": {
  "kernelspec": {
   "display_name": "crater",
   "language": "python",
   "name": "python3"
  },
  "language_info": {
   "codemirror_mode": {
    "name": "ipython",
    "version": 3
   },
   "file_extension": ".py",
   "mimetype": "text/x-python",
   "name": "python",
   "nbconvert_exporter": "python",
   "pygments_lexer": "ipython3",
   "version": "3.9.19"
  }
 },
 "nbformat": 4,
 "nbformat_minor": 2
}
